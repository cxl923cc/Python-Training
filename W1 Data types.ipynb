{
 "cells": [
  {
   "cell_type": "markdown",
   "metadata": {},
   "source": [
    "# LunchPy workshop - Data types and data structures\n",
    "\n",
    "### Contents\n",
    "* Python native data types: integer, float, string, boolean\n",
    "* Pandas data types: int, float, object, bool\n",
    "* Data structures: array, list, tuple, set, dictionary\n",
    "\n",
    "### Exercise\n",
    "* Exercise1: Use sys.getsizeof() to understand the memory usage of Python objects\n",
    "* Exercise2: Use dictionary to map keys to values and apply it to real world dataset"
   ]
  },
  {
   "cell_type": "markdown",
   "metadata": {},
   "source": [
    "### Q&A during the workshop\n",
    "\n",
    "* Q0: What does 'object' data type mean and how does pandas read_csv determine data types?\n",
    "* A0: 'object' is the equivalent pandas data type to 'string' in python native data types. It will be assigned to the column if column has strings or mixed types (numbers and strings). If a column contains numbers and NaNs (missing value), pandas will default to float64, in case your missing value has a decimal.\n",
    "\n",
    "\n",
    "* Q1: Can data type can be specified in using read_csv to load data into pandas dataframe?  \n",
    "* A1: Can use the 'dtype' in read_csv to pass a dictionary that maps the column names to data types.\n",
    "\n",
    "\n",
    "* Q2: what's the difference between single quote and double quote? SAS treats single/double differently.\n",
    "* A2: There is no difference between single quote and double quote in Python, while triple quote is different and used for docstring (documentation).\n",
    "\n",
    "\n",
    "* Q3: What is the difference between an array and a dictionary.\n",
    "* A3: Dictionary is not ordered. Array is ordered. Dictionary maps a set of keys to values. Array maps position indices to values.\n",
    "\n",
    "\n",
    "* Q4: How is an array initiated? \n",
    "* A4: Array can be initiated with (), by specifying the type of the data the array contains and the values. Reference: https://docs.python.org/3/library/array.html\n",
    "\n",
    "* Q5: Is there a way to read a part of the csv file in by specifying the rows to read in?\n",
    "* A5: https://stackoverflow.com/questions/26464567/csv-read-specific-row?utm_medium=organic&utm_source=google_rich_qa&utm_campaign=google_rich_qa\n",
    "    I ran the solution mentioned in this post and got the specified rows of data in a list. Will need to convert it to a dataframe and assign column names to them.\n",
    "\n",
    "\n",
    "\n",
    "\n"
   ]
  },
  {
   "cell_type": "markdown",
   "metadata": {},
   "source": [
    "### Python Data Structures\n",
    "* Examples of initiation of various data structures"
   ]
  },
  {
   "cell_type": "code",
   "execution_count": 151,
   "metadata": {},
   "outputs": [
    {
     "data": {
      "text/plain": [
       "array.array"
      ]
     },
     "execution_count": 151,
     "metadata": {},
     "output_type": "execute_result"
    }
   ],
   "source": [
    "# Create an array. Array contains values of the same data type.\n",
    "import array as arr\n",
    "a = arr.array(\"I\",[3,6,9])\n",
    "type(a)"
   ]
  },
  {
   "cell_type": "code",
   "execution_count": 13,
   "metadata": {},
   "outputs": [
    {
     "data": {
      "text/plain": [
       "['dog', 'cat', 'sheep', 'goat', 'cat']"
      ]
     },
     "execution_count": 13,
     "metadata": {},
     "output_type": "execute_result"
    }
   ],
   "source": [
    "# Create a list.\n",
    "list_a = ['dog', 'cat', 'sheep', 'goat', 'cat']\n",
    "list_a"
   ]
  },
  {
   "cell_type": "code",
   "execution_count": 12,
   "metadata": {},
   "outputs": [
    {
     "data": {
      "text/plain": [
       "['dog', ['cat', 'sheep'], 1]"
      ]
     },
     "execution_count": 12,
     "metadata": {},
     "output_type": "execute_result"
    }
   ],
   "source": [
    "# List is more flexible in storing data of mixed types and shapes.\n",
    "list_b = ['dog', ['cat','sheep'], 1]\n",
    "list_b"
   ]
  },
  {
   "cell_type": "code",
   "execution_count": 11,
   "metadata": {},
   "outputs": [
    {
     "data": {
      "text/plain": [
       "dict"
      ]
     },
     "execution_count": 11,
     "metadata": {},
     "output_type": "execute_result"
    }
   ],
   "source": [
    "# Create a dictionary that maps keys to values. It is similar to SAS 'proc format'.\n",
    "dictionary_a = {'dog':1, 'cat':2, 'sheep':3, 'goat':4}\n",
    "type(dictionary_a)"
   ]
  },
  {
   "cell_type": "code",
   "execution_count": 208,
   "metadata": {},
   "outputs": [
    {
     "data": {
      "text/plain": [
       "0    1\n",
       "1    2\n",
       "2    3\n",
       "3    4\n",
       "4    1\n",
       "dtype: int64"
      ]
     },
     "execution_count": 208,
     "metadata": {},
     "output_type": "execute_result"
    }
   ],
   "source": [
    "# Use pandas map function to transform the values in a list to another set of values defined in the dictionary.\n",
    "# Map is a function in pandas library that applies the pre-defined dictionary or mapping logic to a Pandas Series object. \n",
    "import pandas as pd\n",
    "list_num = pd.Series(list_a).map(dictionary_a)\n",
    "list_num"
   ]
  },
  {
   "cell_type": "markdown",
   "metadata": {},
   "source": [
    "### Exercise 1\n",
    "* Understand how much bits in memory do the Python objects take and how different is that for integer, string, and lists containing integer and strings."
   ]
  },
  {
   "cell_type": "code",
   "execution_count": 199,
   "metadata": {},
   "outputs": [
    {
     "name": "stdout",
     "output_type": "stream",
     "text": [
      "28\n",
      "54\n",
      "53\n",
      "100 100\n",
      "112 166\n",
      "120 228\n",
      "128 290\n",
      "136 352\n"
     ]
    }
   ],
   "source": [
    "# Exercise 1: Check the memory usage of an object\n",
    "\n",
    "a = 1\n",
    "import sys\n",
    "print(sys.getsizeof(a))\n",
    "\n",
    "b = '1'\n",
    "print(sys.getsizeof(b))\n",
    "\n",
    "c = 'abcd'\n",
    "print(sys.getsizeof(c))\n",
    "\n",
    "a = pd.Series([])\n",
    "b = pd.Series([])\n",
    "print(sys.getsizeof(a), sys.getsizeof(b))\n",
    "\n",
    "a = pd.Series([1])\n",
    "b = pd.Series(['1'])\n",
    "print(sys.getsizeof(a), sys.getsizeof(b))\n",
    "\n",
    "a = pd.Series([1, 1])\n",
    "b = pd.Series(['1', '1'])\n",
    "print(sys.getsizeof(a), sys.getsizeof(b))\n",
    "\n",
    "a = pd.Series([1, 1, 1])\n",
    "b = pd.Series(['1', '1', '1'])\n",
    "print(sys.getsizeof(a), sys.getsizeof(b))\n",
    "\n",
    "a = pd.Series([1, 1, 1, 1])\n",
    "b = pd.Series(['1', '1', '1', '1'])\n",
    "print(sys.getsizeof(a), sys.getsizeof(b))"
   ]
  },
  {
   "cell_type": "markdown",
   "metadata": {},
   "source": [
    "### Pandas Data Types\n",
    "* Load data, keep the first 50 columns, and use info function to examine the data types"
   ]
  },
  {
   "cell_type": "code",
   "execution_count": 221,
   "metadata": {},
   "outputs": [
    {
     "name": "stderr",
     "output_type": "stream",
     "text": [
      "C:\\Users\\CatherineChen\\Anaconda3\\lib\\site-packages\\IPython\\core\\interactiveshell.py:2728: DtypeWarning: Columns (12) have mixed types. Specify dtype option on import or set low_memory=False.\n",
      "  interactivity=interactivity, compiler=compiler, result=result)\n"
     ]
    }
   ],
   "source": [
    "import numpy as np\n",
    "import pandas as pd\n",
    "import matplotlib.pyplot as plt\n",
    "import seaborn as sns\n",
    "\n",
    "import os\n",
    "os.chdir('C:/Users/CatherineChen/Documents/MLGroup/')\n",
    "\n",
    "cols = pd.read_csv('master_data.csv', nrows=1)\n",
    "cols\n",
    "cols.columns[:50]\n",
    "df = pd.read_csv('master_data.csv', usecols=cols.columns[:50])\n"
   ]
  },
  {
   "cell_type": "code",
   "execution_count": 222,
   "metadata": {
    "collapsed": true
   },
   "outputs": [
    {
     "name": "stdout",
     "output_type": "stream",
     "text": [
      "<class 'pandas.core.frame.DataFrame'>\n",
      "RangeIndex: 464904 entries, 0 to 464903\n",
      "Data columns (total 50 columns):\n",
      "ApplicationId                464904 non-null int64\n",
      "proposalid                   464904 non-null int64\n",
      "ProductCategory2             464904 non-null object\n",
      "Channel                      464904 non-null object\n",
      "LandlineFlag                 464904 non-null int64\n",
      "app_month                    464904 non-null object\n",
      "ApplicationDate              464904 non-null object\n",
      "CompletionDate               464904 non-null object\n",
      "OriginalTerm                 464904 non-null int64\n",
      "Quote                        464904 non-null int64\n",
      "status                       464904 non-null object\n",
      "Initial_Decision             464904 non-null object\n",
      "Final_Decision               42223 non-null object\n",
      "Acc_App_Accepted             42223 non-null float64\n",
      "Acc_Created                  26540 non-null float64\n",
      "Acc_NTU                      26540 non-null float64\n",
      "ApplicationScore             446316 non-null float64\n",
      "Risk_Navigator4_Score        464904 non-null int64\n",
      "Affordability_Index_Score    464904 non-null int64\n",
      "Age                          464868 non-null float64\n",
      "Residency                    464904 non-null object\n",
      "Joint_Flag                   464904 non-null int64\n",
      "YearsInCurrentEmp            154641 non-null float64\n",
      "PostCodeRegion               464610 non-null object\n",
      "YearsAtAddress               464865 non-null float64\n",
      "MonthsAtAddress              464871 non-null float64\n",
      "totalincome                  464904 non-null int64\n",
      "AmountToFinance              464904 non-null float64\n",
      "Deposit                      264465 non-null float64\n",
      "MonthlyRepaymentAmount       464904 non-null float64\n",
      "APR                          464895 non-null float64\n",
      "MOB_0                        19364 non-null float64\n",
      "MOB_1                        17764 non-null float64\n",
      "MOB_2                        16257 non-null float64\n",
      "MOB_3                        14761 non-null float64\n",
      "MOB_4                        13569 non-null float64\n",
      "MOB_5                        12688 non-null float64\n",
      "MOB_6                        11734 non-null float64\n",
      "MOB_7                        11002 non-null float64\n",
      "MOB_8                        10314 non-null float64\n",
      "MOB_9                        9855 non-null float64\n",
      "MOB_10                       9293 non-null float64\n",
      "MOB_11                       8766 non-null float64\n",
      "MOB_12                       8244 non-null float64\n",
      "MOB_13                       7614 non-null float64\n",
      "MOB_14                       7072 non-null float64\n",
      "MOB_15                       6554 non-null float64\n",
      "MOB_16                       6120 non-null float64\n",
      "MOB_17                       5665 non-null float64\n",
      "MOB_18                       5275 non-null float64\n",
      "dtypes: float64(31), int64(9), object(10)\n",
      "memory usage: 177.3+ MB\n"
     ]
    }
   ],
   "source": [
    "df.info()"
   ]
  },
  {
   "cell_type": "code",
   "execution_count": 211,
   "metadata": {
    "collapsed": true
   },
   "outputs": [
    {
     "data": {
      "text/plain": [
       "0    16JAN2014:08:54:22.757\n",
       "1    16JAN2014:09:27:34.510\n",
       "2    16JAN2014:09:27:36.610\n",
       "3    16JAN2014:09:35:23.100\n",
       "4    16JAN2014:12:07:54.090\n",
       "Name: ApplicationDate, dtype: object"
      ]
     },
     "execution_count": 211,
     "metadata": {},
     "output_type": "execute_result"
    }
   ],
   "source": [
    "df['ApplicationDate'].head()"
   ]
  },
  {
   "cell_type": "code",
   "execution_count": 197,
   "metadata": {
    "collapsed": true
   },
   "outputs": [
    {
     "data": {
      "text/plain": [
       "0    01JAN1900:00:00:00.000\n",
       "1    01JAN1900:00:00:00.000\n",
       "2    01JAN1900:00:00:00.000\n",
       "3    24JAN2014:19:00:09.587\n",
       "4    01JAN1900:00:00:00.000\n",
       "Name: CompletionDate, dtype: object"
      ]
     },
     "execution_count": 197,
     "metadata": {},
     "output_type": "execute_result"
    }
   ],
   "source": [
    "df['CompletionDate'].head()"
   ]
  },
  {
   "cell_type": "markdown",
   "metadata": {},
   "source": [
    "### Exercise 2\n",
    "* Transform the 'ApplicationDate' to 6-digit application month with map function and dictionary."
   ]
  },
  {
   "cell_type": "code",
   "execution_count": 223,
   "metadata": {
    "collapsed": true
   },
   "outputs": [
    {
     "data": {
      "text/plain": [
       "201707    76485\n",
       "201708    72179\n",
       "201706    58781\n",
       "201705    49626\n",
       "201612    28480\n",
       "201703    26854\n",
       "201701    23230\n",
       "201704    22921\n",
       "201702    17820\n",
       "201611     8150\n",
       "201610     6960\n",
       "201603     6907\n",
       "201609     6616\n",
       "201608     6293\n",
       "201606     5747\n",
       "201607     5518\n",
       "201605     4596\n",
       "201602     4538\n",
       "201604     4428\n",
       "201507     4029\n",
       "201509     3670\n",
       "201508     3583\n",
       "201511     3425\n",
       "201510     3238\n",
       "201601     2706\n",
       "201512     2147\n",
       "201402     1027\n",
       "201403      907\n",
       "201506      841\n",
       "201404      410\n",
       "201504      287\n",
       "201503      278\n",
       "201405      267\n",
       "201406      235\n",
       "201502      216\n",
       "201410      214\n",
       "201505      211\n",
       "201501      195\n",
       "201411      188\n",
       "201409      171\n",
       "201401      159\n",
       "201407      159\n",
       "201412      131\n",
       "201408       81\n",
       "Name: app_month_yymm, dtype: int64"
      ]
     },
     "execution_count": 223,
     "metadata": {},
     "output_type": "execute_result"
    }
   ],
   "source": [
    "#Define a dictionary to map the month from 'MMM' to the corresponding number\n",
    "month_fmt = {'JAN': 1, 'FEB': 2, 'MAR': 3, 'APR': 4, 'MAY': 5, 'JUN': 6, \n",
    "             'JUL': 7, 'AUG': 8, 'SEP': 9, 'OCT': 10, 'NOV': 11, 'DEC':12}\n",
    "\n",
    "#Map function map values based on either pre-defined logic or dictionary\n",
    "df['app_yy'] = df['ApplicationDate'].map(lambda x: x[5:9])\n",
    "df['app_mm'] = df['ApplicationDate'].map(lambda x: x[2:5]).map(month_fmt)\n",
    "\n",
    "#Create a new column of application month in YYYYMM format\n",
    "df['app_month_yymm'] = df['app_yy'].astype(int) * 100 + df['app_mm']\n",
    "\n",
    "#Check the frequency of values in the new application month column\n",
    "df['app_month_yymm'].value_counts()\n"
   ]
  },
  {
   "cell_type": "markdown",
   "metadata": {},
   "source": [
    "### Exercise 2 - A smarter alternative solution :) \n",
    "* define the datetime format and parse the date when reading it in"
   ]
  },
  {
   "cell_type": "code",
   "execution_count": 2,
   "metadata": {
    "collapsed": true
   },
   "outputs": [
    {
     "name": "stderr",
     "output_type": "stream",
     "text": [
      "C:\\Users\\CatherineChen\\Anaconda3\\lib\\site-packages\\IPython\\core\\interactiveshell.py:2728: DtypeWarning: Columns (12) have mixed types. Specify dtype option on import or set low_memory=False.\n",
      "  interactivity=interactivity, compiler=compiler, result=result)\n"
     ]
    },
    {
     "data": {
      "text/plain": [
       "ApplicationId                         int64\n",
       "proposalid                            int64\n",
       "ProductCategory2                     object\n",
       "Channel                              object\n",
       "LandlineFlag                          int64\n",
       "app_month                            object\n",
       "ApplicationDate              datetime64[ns]\n",
       "CompletionDate                       object\n",
       "OriginalTerm                          int64\n",
       "Quote                                 int64\n",
       "status                               object\n",
       "Initial_Decision                     object\n",
       "Final_Decision                       object\n",
       "Acc_App_Accepted                    float64\n",
       "Acc_Created                         float64\n",
       "Acc_NTU                             float64\n",
       "ApplicationScore                    float64\n",
       "Risk_Navigator4_Score                 int64\n",
       "Affordability_Index_Score             int64\n",
       "Age                                 float64\n",
       "Residency                            object\n",
       "Joint_Flag                            int64\n",
       "YearsInCurrentEmp                   float64\n",
       "PostCodeRegion                       object\n",
       "YearsAtAddress                      float64\n",
       "MonthsAtAddress                     float64\n",
       "totalincome                           int64\n",
       "AmountToFinance                     float64\n",
       "Deposit                             float64\n",
       "MonthlyRepaymentAmount              float64\n",
       "APR                                 float64\n",
       "MOB_0                               float64\n",
       "MOB_1                               float64\n",
       "MOB_2                               float64\n",
       "MOB_3                               float64\n",
       "MOB_4                               float64\n",
       "MOB_5                               float64\n",
       "MOB_6                               float64\n",
       "MOB_7                               float64\n",
       "MOB_8                               float64\n",
       "MOB_9                               float64\n",
       "MOB_10                              float64\n",
       "MOB_11                              float64\n",
       "MOB_12                              float64\n",
       "MOB_13                              float64\n",
       "MOB_14                              float64\n",
       "MOB_15                              float64\n",
       "MOB_16                              float64\n",
       "MOB_17                              float64\n",
       "MOB_18                              float64\n",
       "dtype: object"
      ]
     },
     "execution_count": 2,
     "metadata": {},
     "output_type": "execute_result"
    }
   ],
   "source": [
    "import numpy as np\n",
    "import pandas as pd\n",
    "import matplotlib.pyplot as plt\n",
    "import seaborn as sns\n",
    "\n",
    "import os\n",
    "os.chdir('C:/Users/CatherineChen/Documents/MLGroup/')\n",
    "\n",
    "cols = pd.read_csv('master_data.csv', nrows=1)\n",
    "\n",
    "#Use pandas datetime to define the format of the date column. https://docs.python.org/2/library/datetime.html\n",
    "dateparse = lambda x: pd.datetime.strptime(x, '%d%b%Y:%H:%M:%S.%f')\n",
    "\n",
    "df = pd.read_csv('master_data.csv', usecols=cols.columns[:50], parse_dates=['ApplicationDate'], date_parser=dateparse)\n",
    "\n",
    "df.dtypes"
   ]
  },
  {
   "cell_type": "code",
   "execution_count": 3,
   "metadata": {
    "collapsed": true
   },
   "outputs": [
    {
     "data": {
      "text/plain": [
       "0    201401\n",
       "1    201401\n",
       "2    201401\n",
       "3    201401\n",
       "4    201401\n",
       "Name: app_month, dtype: int64"
      ]
     },
     "execution_count": 3,
     "metadata": {},
     "output_type": "execute_result"
    }
   ],
   "source": [
    "#Since the 'ApplicationDate' is in datetime format now, we can use the pandas datetime functions (dt.year or dt.month) \n",
    "#to easily get the year and month from 'ApplicationDate'\n",
    "df['app_month'] = df['ApplicationDate'].dt.year * 100 + df['ApplicationDate'].dt.month\n",
    "df['app_month'].head()"
   ]
  }
 ],
 "metadata": {
  "kernelspec": {
   "display_name": "Python 3",
   "language": "python",
   "name": "python3"
  },
  "language_info": {
   "codemirror_mode": {
    "name": "ipython",
    "version": 3
   },
   "file_extension": ".py",
   "mimetype": "text/x-python",
   "name": "python",
   "nbconvert_exporter": "python",
   "pygments_lexer": "ipython3",
   "version": "3.6.4"
  }
 },
 "nbformat": 4,
 "nbformat_minor": 2
}
