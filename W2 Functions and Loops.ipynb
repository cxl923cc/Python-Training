{
 "cells": [
  {
   "cell_type": "markdown",
   "metadata": {},
   "source": [
    "# Functions and Loops\n",
    "\n",
    "### Contents\n",
    "* Loops: For, While\n",
    "* List Comprehension: a fast way to create a list using for loop\n",
    "* Lambda: the Python function that does not need a name\n",
    "* Def: the function that is similar to SAS macro\n",
    "\n",
    "### Demo\n",
    "* Put it all together. Use function, loop and dictionary to create a Chatbot that does small talks!"
   ]
  },
  {
   "cell_type": "markdown",
   "metadata": {},
   "source": [
    "### Q&A during the workshop\n",
    "\n",
    "* Q: \n",
    "\n",
    "\n",
    "\n"
   ]
  },
  {
   "cell_type": "markdown",
   "metadata": {},
   "source": [
    "### Loops: For, While\n",
    "* The loop statement ends with a \":\" \n",
    "* Indentation is required for the second line of code \n",
    "* Can be used to loop through a list or a dictionary"
   ]
  },
  {
   "cell_type": "code",
   "execution_count": 104,
   "metadata": {
    "collapsed": true
   },
   "outputs": [
    {
     "data": {
      "text/plain": [
       "['MOB_0',\n",
       " 'MOB_1',\n",
       " 'MOB_2',\n",
       " 'MOB_3',\n",
       " 'MOB_4',\n",
       " 'MOB_5',\n",
       " 'MOB_6',\n",
       " 'MOB_7',\n",
       " 'MOB_8',\n",
       " 'MOB_9',\n",
       " 'MOB_10',\n",
       " 'MOB_11',\n",
       " 'MOB_12',\n",
       " 'MOB_13',\n",
       " 'MOB_14',\n",
       " 'MOB_15']"
      ]
     },
     "execution_count": 104,
     "metadata": {},
     "output_type": "execute_result"
    }
   ],
   "source": [
    "# For Loop: Create a list containing strings starting with 'MOB_'\n",
    "list_mob = []\n",
    "for i in range(16):\n",
    "    list_mob.append('MOB_'+str(i))\n",
    "list_mob"
   ]
  },
  {
   "cell_type": "code",
   "execution_count": 105,
   "metadata": {
    "collapsed": true
   },
   "outputs": [
    {
     "data": {
      "text/plain": [
       "['MOB_0',\n",
       " 'MOB_1',\n",
       " 'MOB_2',\n",
       " 'MOB_3',\n",
       " 'MOB_4',\n",
       " 'MOB_5',\n",
       " 'MOB_6',\n",
       " 'MOB_7',\n",
       " 'MOB_8',\n",
       " 'MOB_9',\n",
       " 'MOB_10',\n",
       " 'MOB_11',\n",
       " 'MOB_12',\n",
       " 'MOB_13',\n",
       " 'MOB_14',\n",
       " 'MOB_15']"
      ]
     },
     "execution_count": 105,
     "metadata": {},
     "output_type": "execute_result"
    }
   ],
   "source": [
    "# While Loop: Sample example\n",
    "list_mob = []\n",
    "i = 0\n",
    "while i <= 15:\n",
    "    list_mob.append('MOB_'+str(i))\n",
    "    i = i + 1\n",
    "list_mob"
   ]
  },
  {
   "cell_type": "code",
   "execution_count": 111,
   "metadata": {},
   "outputs": [
    {
     "name": "stdout",
     "output_type": "stream",
     "text": [
      "cat is number 1\n",
      "dog is number 2\n",
      "sheep is number 3\n"
     ]
    }
   ],
   "source": [
    "# Define a dictionary and Loop through a dictionary\n",
    "animaldict = {'cat' : 1,\n",
    "              'dog' : 2,\n",
    "              'sheep' : 3\n",
    "             }\n",
    "# .items() contains pairs of key and value\n",
    "for animal, number in animaldict.items():\n",
    "    print(animal + ' is number', number)"
   ]
  },
  {
   "cell_type": "markdown",
   "metadata": {},
   "source": [
    "### List Comprehension\n",
    "* Use for loop to create a list in one line. A fast way to create new features in pandas dataframe."
   ]
  },
  {
   "cell_type": "code",
   "execution_count": 116,
   "metadata": {
    "collapsed": true
   },
   "outputs": [
    {
     "name": "stdout",
     "output_type": "stream",
     "text": [
      "Count Frequency of OriginalTerm\n",
      "60    51\n",
      "36    20\n",
      "48    14\n",
      "24    13\n",
      "12     2\n",
      "Name: OriginalTerm, dtype: int64\n",
      "Count Frequency of loanterm_group\n",
      ">=36    85\n",
      "<36     15\n",
      "Name: loanterm_group, dtype: int64\n"
     ]
    }
   ],
   "source": [
    "import pandas as pd\n",
    "import os\n",
    "os.chdir('C:/Users/CatherineChen/Documents/MLGroup/')\n",
    "# Import the dataset from csv\n",
    "df_dev = pd.read_csv('KGB_dev_sample.csv', nrows = 100)\n",
    "\n",
    "print('Count Frequency of OriginalTerm')\n",
    "print(df_dev['OriginalTerm'].value_counts())\n",
    "\n",
    "#Group loan term into two groups using list comprehension\n",
    "df_dev['loanterm_group'] = ['>=36' if x >= 36 else '<36' for x in df_dev['OriginalTerm']]\n",
    "\n",
    "print('Count Frequency of loanterm_group')\n",
    "print(df_dev['loanterm_group'].value_counts())\n"
   ]
  },
  {
   "cell_type": "markdown",
   "metadata": {},
   "source": [
    "### Lambda\n",
    "* Lambda is a fast way to write functions. Inputs can be one or more arguments. An argument can be a value or Pandas Series."
   ]
  },
  {
   "cell_type": "code",
   "execution_count": null,
   "metadata": {},
   "outputs": [],
   "source": [
    "#Load frequently used libraries\n",
    "import pandas as pd"
   ]
  },
  {
   "cell_type": "code",
   "execution_count": 11,
   "metadata": {},
   "outputs": [
    {
     "name": "stdout",
     "output_type": "stream",
     "text": [
      "4\n"
     ]
    }
   ],
   "source": [
    "# Define a lambda function that maps input x to squared x\n",
    "g = lambda x: x**2\n",
    "print(g(2))"
   ]
  },
  {
   "cell_type": "code",
   "execution_count": 118,
   "metadata": {
    "scrolled": true
   },
   "outputs": [
    {
     "name": "stdout",
     "output_type": "stream",
     "text": [
      "0    1\n",
      "1    4\n",
      "2    9\n",
      "dtype: int64\n"
     ]
    }
   ],
   "source": [
    "#To use lambda on a pandas Series, map function is used with lambda\n",
    "a = pd.Series([1, 2, 3])\n",
    "print(a.map(g))"
   ]
  },
  {
   "cell_type": "code",
   "execution_count": 117,
   "metadata": {},
   "outputs": [
    {
     "name": "stdout",
     "output_type": "stream",
     "text": [
      "6\n"
     ]
    }
   ],
   "source": [
    "#Multiple arguments as input. Define a function 'tot' to sum three arguments up.\n",
    "tot = lambda x, y, z: x+y+z\n",
    "print(tot(1,2,3))"
   ]
  },
  {
   "cell_type": "code",
   "execution_count": 121,
   "metadata": {},
   "outputs": [
    {
     "data": {
      "text/plain": [
       "0    3\n",
       "1    6\n",
       "2    9\n",
       "dtype: int64"
      ]
     },
     "execution_count": 121,
     "metadata": {},
     "output_type": "execute_result"
    }
   ],
   "source": [
    "#The function 'tot' applies to Pandas Series too \n",
    "a = pd.Series([1, 2, 3])\n",
    "b = pd.Series([1, 2, 3])\n",
    "c = pd.Series([1, 2, 3])\n",
    "\n",
    "tot(a, b, c)"
   ]
  },
  {
   "cell_type": "code",
   "execution_count": 135,
   "metadata": {},
   "outputs": [
    {
     "data": {
      "text/plain": [
       "[1, 2, 3, 1, 2, 3, 1, 2, 3]"
      ]
     },
     "execution_count": 135,
     "metadata": {},
     "output_type": "execute_result"
    }
   ],
   "source": [
    "#But this function 'tot' applying to list would generate a totally different result. Because '+' concatenates lists together. \n",
    "a = [1, 2, 3]\n",
    "b = [1, 2, 3]\n",
    "c = [1, 2, 3]\n",
    "\n",
    "tot(a, b, c)"
   ]
  },
  {
   "cell_type": "markdown",
   "metadata": {},
   "source": [
    "### Def\n",
    "* Def is similar to SAS macro except you can use it to return one or more objects\n",
    "* Example: Define a function to identify the column names containing a certain string"
   ]
  },
  {
   "cell_type": "code",
   "execution_count": 144,
   "metadata": {},
   "outputs": [
    {
     "name": "stderr",
     "output_type": "stream",
     "text": [
      "C:\\Users\\CatherineChen\\Anaconda3\\lib\\site-packages\\IPython\\core\\interactiveshell.py:2728: DtypeWarning: Columns (68,69,70,73,74,168,169,174,175,176,177,178,179,186,187,195,196,200,202,206,207,208,209,210,211,212,213,214,215,216,463,480,481,618,619,620,625,626,627,628,646,647,673,933,934,935,1017) have mixed types. Specify dtype option on import or set low_memory=False.\n",
      "  interactivity=interactivity, compiler=compiler, result=result)\n"
     ]
    },
    {
     "name": "stdout",
     "output_type": "stream",
     "text": [
      "Columns containing 'App' in the name:\n",
      "ApplicationId\n",
      "ApplicationDate\n",
      "Acc_App_Accepted\n",
      "ApplicationScore\n",
      "SourceApplicationID\n",
      "\n",
      "Columns containing 'Decision' in the name:\n",
      "Initial_Decision\n",
      "Final_Decision\n"
     ]
    }
   ],
   "source": [
    "import pandas as pd\n",
    "import os\n",
    "os.chdir('C:/Users/CatherineChen/Documents/MLGroup/')\n",
    "# Import the dataset from csv\n",
    "df_dev = pd.read_csv('KGB_dev_sample.csv')\n",
    "\n",
    "def columnlookup(keyword):\n",
    "    '''Identify the column names containing a certain string'''\n",
    "    # Define a empty columnlist\n",
    "    columnlist = []\n",
    "    # Loop through all the column names in the dataframe\n",
    "    for x in df_dev.columns:\n",
    "        # Check if the the column name contains the keyword\n",
    "        if keyword in x:\n",
    "            # Print the column names containing the keyword\n",
    "            print(x)\n",
    "            # Concatenate the column name to the list 'columnlist'\n",
    "            columnlist.append(x)\n",
    "    # Return the list\n",
    "    return columnlist\n",
    "\n",
    "print(\"Columns containing 'App' in the name:\")\n",
    "appcols = columnlookup('App')\n",
    "print(\"\\nColumns containing 'Decision' in the name:\")\n",
    "decisioncols = columnlookup('Decision')"
   ]
  },
  {
   "cell_type": "markdown",
   "metadata": {},
   "source": [
    "# Demo\n",
    "* Put it all together. Use function, loop and dictionary to create a Chatbot that does small talks!\n",
    "\n",
    "### Chat Bot 1.0: Echo Bot\n",
    "* The bot responds what you say to it"
   ]
  },
  {
   "cell_type": "code",
   "execution_count": 149,
   "metadata": {},
   "outputs": [],
   "source": [
    "# Define a function that responds to a user's message: respond\n",
    "def respond(message):\n",
    "    # Concatenate the user's message to the end of a standard bot respone\n",
    "    bot_message = \"I can hear you! You said: \" + message \n",
    "    # Return the result\n",
    "    return bot_message"
   ]
  },
  {
   "cell_type": "code",
   "execution_count": 150,
   "metadata": {
    "scrolled": true
   },
   "outputs": [
    {
     "data": {
      "text/plain": [
       "'I can hear you! You said: hello'"
      ]
     },
     "execution_count": 150,
     "metadata": {},
     "output_type": "execute_result"
    }
   ],
   "source": [
    "respond(\"hello\")"
   ]
  },
  {
   "cell_type": "code",
   "execution_count": 151,
   "metadata": {},
   "outputs": [
    {
     "name": "stdout",
     "output_type": "stream",
     "text": [
      "USER : who is your name?\n",
      "BOT : I can hear you! You said: who is your name?\n"
     ]
    }
   ],
   "source": [
    "# Show a conversation\n",
    "bot_template = \"BOT : {0}\"\n",
    "user_template = \"USER : {0}\"\n",
    "\n",
    "# Define a function that sends a message to the bot: send_message\n",
    "def send_message(message):\n",
    "    # Print user_template including the user_message\n",
    "    print(user_template.format(message))\n",
    "    # Get the bot's response to the message\n",
    "    response = respond(message)\n",
    "    # Print the bot template including the bot's response.\n",
    "    print(bot_template.format(response))\n",
    "\n",
    "# Send a message to the bot\n",
    "send_message(\"who is your name?\")"
   ]
  },
  {
   "cell_type": "markdown",
   "metadata": {},
   "source": [
    "### Chat Bot 2.0: Create a Personality\n",
    "So far, we have created an Echo Bot. Apparently, it does not know how to talk like a human. Now we are going to create a personality for the bot."
   ]
  },
  {
   "cell_type": "code",
   "execution_count": 153,
   "metadata": {},
   "outputs": [],
   "source": [
    "# Define variables\n",
    "name = \"Greg\"\n",
    "weather = \"cloudy\"\n",
    "\n",
    "# Define a dictionary with the predefined responses\n",
    "responses = {\n",
    "  \"what's your name?\": \"my name is {0}\".format(name),\n",
    "  \"what's today's weather?\": \"the weather is {0}\".format(weather),\n",
    "  \"default\": \"default message\"\n",
    "}\n",
    "\n",
    "# Return the matching response if there is one, default otherwise\n",
    "def respond(message):\n",
    "    # Check if the message is in the responses\n",
    "    if message in responses:\n",
    "        # Return the matching message\n",
    "        bot_message = responses[message]\n",
    "    else:\n",
    "        # Return the \"default\" message\n",
    "        bot_message = responses[\"default\"]\n",
    "    return bot_message"
   ]
  },
  {
   "cell_type": "code",
   "execution_count": 155,
   "metadata": {},
   "outputs": [
    {
     "data": {
      "text/plain": [
       "'my name is Greg'"
      ]
     },
     "execution_count": 155,
     "metadata": {},
     "output_type": "execute_result"
    }
   ],
   "source": [
    "respond(\"what's your name?\")"
   ]
  },
  {
   "cell_type": "code",
   "execution_count": 156,
   "metadata": {},
   "outputs": [
    {
     "data": {
      "text/plain": [
       "'the weather is cloudy'"
      ]
     },
     "execution_count": 156,
     "metadata": {},
     "output_type": "execute_result"
    }
   ],
   "source": [
    "respond(\"what's today's weather?\")"
   ]
  },
  {
   "cell_type": "code",
   "execution_count": 157,
   "metadata": {},
   "outputs": [
    {
     "data": {
      "text/plain": [
       "'default message'"
      ]
     },
     "execution_count": 157,
     "metadata": {},
     "output_type": "execute_result"
    }
   ],
   "source": [
    "respond(\"what's today's date?\")"
   ]
  },
  {
   "cell_type": "code",
   "execution_count": 158,
   "metadata": {},
   "outputs": [
    {
     "data": {
      "text/plain": [
       "'my name is Greg'"
      ]
     },
     "execution_count": 158,
     "metadata": {},
     "output_type": "execute_result"
    }
   ],
   "source": [
    "respond(\"what's your name?\")"
   ]
  },
  {
   "cell_type": "markdown",
   "metadata": {},
   "source": [
    "### Chat Bot 2.1: Add variety\n",
    "So far, this bot can chat but always gives the same answer to the same question. Let's make it more human by adding variety to the responses to the same question."
   ]
  },
  {
   "cell_type": "code",
   "execution_count": 88,
   "metadata": {},
   "outputs": [],
   "source": [
    "# Import the random module\n",
    "\n",
    "name = \"Greg\"\n",
    "weather = \"cloudy\"\n",
    "\n",
    "# Define a dictionary containing a list of responses for each message\n",
    "responses = {\n",
    "  \"what's your name?\": [\n",
    "      \"my name is {0}\".format(name),\n",
    "      \"they call me {0}\".format(name),\n",
    "      \"I go by {0}\".format(name)\n",
    "   ],\n",
    "  \"what's today's weather?\": [\n",
    "      \"the weather is {0}\".format(weather),\n",
    "      \"it's {0} today\".format(weather)\n",
    "    ],\n",
    "  \"default\": [\"default message\"]\n",
    "}\n",
    "\n",
    "import random\n",
    "# Use random.choice() to choose a matching response\n",
    "def respond(message):\n",
    "    # Check if the message is in the responses\n",
    "    if message in responses:\n",
    "        # Return a random matching response\n",
    "        bot_message = random.choice(responses[message])\n",
    "    else:\n",
    "        # Return a random \"default\" response\n",
    "        bot_message = random.choice(responses[\"default\"])\n",
    "    return bot_message\n"
   ]
  },
  {
   "cell_type": "code",
   "execution_count": 89,
   "metadata": {},
   "outputs": [
    {
     "data": {
      "text/plain": [
       "'they call me Greg'"
      ]
     },
     "execution_count": 89,
     "metadata": {},
     "output_type": "execute_result"
    }
   ],
   "source": [
    "respond(\"what's your name?\")"
   ]
  },
  {
   "cell_type": "code",
   "execution_count": 90,
   "metadata": {},
   "outputs": [
    {
     "data": {
      "text/plain": [
       "'my name is Greg'"
      ]
     },
     "execution_count": 90,
     "metadata": {},
     "output_type": "execute_result"
    }
   ],
   "source": [
    "respond(\"what's your name?\")"
   ]
  },
  {
   "cell_type": "code",
   "execution_count": 91,
   "metadata": {
    "scrolled": true
   },
   "outputs": [
    {
     "data": {
      "text/plain": [
       "'I go by Greg'"
      ]
     },
     "execution_count": 91,
     "metadata": {},
     "output_type": "execute_result"
    }
   ],
   "source": [
    "respond(\"what's your name?\")"
   ]
  },
  {
   "cell_type": "markdown",
   "metadata": {},
   "source": [
    "### Chat Bot 2.2: Detecting Question or Statement.\n",
    "So the knowledge of the chat bot is actually a mapping table that maps questions to answers. What if the question is not in the bot's dictionary, can it still return an answer? Let's detect whether the message is a question or statement, and return a random response."
   ]
  },
  {
   "cell_type": "code",
   "execution_count": 98,
   "metadata": {},
   "outputs": [
    {
     "name": "stdout",
     "output_type": "stream",
     "text": [
      "USER : what's today's weather?\n",
      "BOT : Good question, buddy.\n",
      "USER : what's today's weather?\n",
      "BOT : I don't know :(\n",
      "USER : I love building chatbots\n",
      "BOT : How long have you felt this way?\n",
      "USER : I love building chatbots\n",
      "BOT : Really? Tell me more!\n"
     ]
    }
   ],
   "source": [
    "import random\n",
    "responses = {\n",
    "  \"question\": [\n",
    "      \"I don't know :(\",\n",
    "      \"You tell me! \",\n",
    "      \"Good question, buddy.\"\n",
    "   ],\n",
    "  \"statement\": [\n",
    "      \"How long have you felt this way?\",\n",
    "      \"I find that extremely interesting!\",\n",
    "      \"Really? Tell me more!\"\n",
    "    ]\n",
    "}\n",
    "\n",
    "def respond(message):\n",
    "    # Check for a question mark\n",
    "    if message.endswith(\"?\"):\n",
    "        # Return a random question\n",
    "        return random.choice(responses[\"question\"])\n",
    "    # Return a random statement\n",
    "    return random.choice(responses[\"statement\"])\n",
    "\n",
    "\n",
    "# Send messages ending in a question mark\n",
    "send_message(\"what's today's weather?\")\n",
    "send_message(\"what's today's weather?\")\n",
    "\n",
    "# Send messages which don't end with a question mark\n",
    "send_message(\"I love building chatbots\")\n",
    "send_message(\"I love building chatbots\")\n"
   ]
  },
  {
   "cell_type": "markdown",
   "metadata": {},
   "source": [
    "### Chat Bot 3.0: Pattern Detection\n",
    "Can the bot be even smarter by recognizing the pattern of the questions?\n",
    "\n",
    "* Introduce text munging technique: regular expressions (import re)\n",
    "    * Match messages against known patterns\n",
    "    * Extract key phrases\n",
    "    * Transform sentences grammatically\n",
    "* Example: \n",
    "    * USER: \"Do you remember when you ate strawberries in the garden?\"\n",
    "    * BOT: \"How could I forget when I ate strawberries in the garden?\""
   ]
  },
  {
   "cell_type": "markdown",
   "metadata": {},
   "source": [
    "**Step 1: Define the known patterns**"
   ]
  },
  {
   "cell_type": "code",
   "execution_count": 163,
   "metadata": {},
   "outputs": [],
   "source": [
    "# Import regular expression library 're'\n",
    "import re\n",
    "\n",
    "# Define the matching rules as a dictionary\n",
    "rules = {'I want (.*)': ['What would it mean if you got {0}',\n",
    "          'Why do you want {0}',\n",
    "          \"What's stopping you from getting {0}\"],\n",
    "         \n",
    "         'do you remember (.*)': ['Did you think I would forget {0}',\n",
    "          \"Why haven't you been able to forget {0}\",\n",
    "          'What about {0}',\n",
    "          'Yes .. and?'],\n",
    "         \n",
    "         'do you think (.*)': ['if {0}? Absolutely.', 'No chance'],\n",
    "         'if (.*)': [\"Do you really think it's likely that {0}\",\n",
    "          'Do you wish that {0}',\n",
    "          'What do you think about {0}',\n",
    "          'Really--if {0}']\n",
    "        }"
   ]
  },
  {
   "cell_type": "markdown",
   "metadata": {},
   "source": [
    "**Step 2: Match the known pattern and extract key phrase**"
   ]
  },
  {
   "cell_type": "code",
   "execution_count": 165,
   "metadata": {},
   "outputs": [],
   "source": [
    "# Define match_rule()\n",
    "def match_rule(rules, message):\n",
    "    response, phrase = \"default\", None\n",
    "    \n",
    "    # Iterate over the rules dictionary\n",
    "    for pattern, responses in rules.items():\n",
    "        # Create a match object\n",
    "        match = re.search(pattern, message)\n",
    "        if match is not None:\n",
    "            # Choose a random response\n",
    "            response = random.choice(responses)\n",
    "            if '{0}' in response:\n",
    "                phrase = match.group(1)\n",
    "                response =response.format(match.group(1))\n",
    "    # Return the response and phrase\n",
    "    return response, phrase"
   ]
  },
  {
   "cell_type": "code",
   "execution_count": 179,
   "metadata": {},
   "outputs": [
    {
     "name": "stdout",
     "output_type": "stream",
     "text": [
      "('What about your last birthday', 'your last birthday')\n"
     ]
    }
   ],
   "source": [
    "# Test match_rule, return the response and the phrase extracted from the message\n",
    "print(match_rule(rules, \"do you remember your last birthday\"))"
   ]
  },
  {
   "cell_type": "markdown",
   "metadata": {},
   "source": [
    "**Step 3: Transform the message grammatically**"
   ]
  },
  {
   "cell_type": "code",
   "execution_count": 186,
   "metadata": {},
   "outputs": [],
   "source": [
    "# Define replace_pronouns()\n",
    "def replace_pronouns(message):\n",
    "\n",
    "    message = message.lower()\n",
    "    if 'I' in message:\n",
    "        # Replace 'I' with 'you'\n",
    "        return re.sub('I','you',message)\n",
    "    if 'me' in message:\n",
    "        # Replace 'me' with 'you'\n",
    "        return re.sub('me','you',message)\n",
    "    if 'my' in message:\n",
    "        # Replace 'my' with 'your'\n",
    "        return re.sub('my','your',message)\n",
    "    if 'your' in message:\n",
    "        # Replace 'your' with 'my'\n",
    "        return re.sub('your','my',message)\n",
    "    if 'you' in message:\n",
    "        # Replace 'you' with 'I'\n",
    "        return re.sub('you','I',message)\n",
    "\n",
    "    return message\n"
   ]
  },
  {
   "cell_type": "code",
   "execution_count": 190,
   "metadata": {
    "scrolled": true
   },
   "outputs": [
    {
     "name": "stdout",
     "output_type": "stream",
     "text": [
      "your last birthday\n",
      "when I went to florida\n",
      "i had your own castle\n"
     ]
    }
   ],
   "source": [
    "# Test the transformed grammar \n",
    "print(replace_pronouns(\"my last birthday\"))\n",
    "print(replace_pronouns(\"when you went to Florida\"))\n",
    "print(replace_pronouns(\"I had my own castle\"))\n",
    "\n",
    "# Not all of them make sense. e.g. 'I had my own castle' becomes 'i had your own castle'. \n",
    "# I tried to improve it, but it seems I can't improve it more than this. \n",
    "# The rules overwrite each other when I want 'I' become 'you' and 'you' become 'I' in the same sentence. \n",
    "# Let me know if you find a better solution :P"
   ]
  },
  {
   "cell_type": "markdown",
   "metadata": {},
   "source": [
    "**Step 4: Putting it all together**\n",
    "\n",
    "Let's see how good the chat bot is :)"
   ]
  },
  {
   "cell_type": "code",
   "execution_count": 191,
   "metadata": {},
   "outputs": [
    {
     "name": "stdout",
     "output_type": "stream",
     "text": [
      "USER : do you remember your last birthday\n",
      "BOT : What about your last birthday\n",
      "USER : do you think humans should be worried about AI\n",
      "BOT : if humans should be worried about AI? Absolutely.\n",
      "USER : I want a robot friend\n",
      "BOT : What would it mean if you got a robot friend\n",
      "USER : what if you could be anything you wanted\n",
      "BOT : Do you wish that you could be anything you wanted\n"
     ]
    }
   ],
   "source": [
    "# Define respond()\n",
    "def respond(message):\n",
    "    # Call match_rule\n",
    "    response, phrase = match_rule(rules, message)\n",
    "    if '{0}' in response:\n",
    "        # Replace the pronouns in the phrase\n",
    "        phrase = replace_pronouns(phrase)\n",
    "        # Include the phrase in the response\n",
    "        response = response.format(phrase)\n",
    "    return response\n",
    "\n",
    "# Send the messages\n",
    "send_message(\"do you remember your last birthday\")\n",
    "send_message(\"do you think humans should be worried about AI\")\n",
    "send_message(\"I want a robot friend\")\n",
    "send_message(\"what if you could be anything you wanted\")\n"
   ]
  }
 ],
 "metadata": {
  "kernelspec": {
   "display_name": "Python 3",
   "language": "python",
   "name": "python3"
  },
  "language_info": {
   "codemirror_mode": {
    "name": "ipython",
    "version": 3
   },
   "file_extension": ".py",
   "mimetype": "text/x-python",
   "name": "python",
   "nbconvert_exporter": "python",
   "pygments_lexer": "ipython3",
   "version": "3.6.4"
  }
 },
 "nbformat": 4,
 "nbformat_minor": 2
}
